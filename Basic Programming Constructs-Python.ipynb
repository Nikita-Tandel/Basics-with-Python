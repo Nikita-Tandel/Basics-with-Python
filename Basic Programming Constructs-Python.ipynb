{
 "cells": [
  {
   "cell_type": "code",
   "execution_count": 1,
   "metadata": {
    "scrolled": true
   },
   "outputs": [
    {
     "data": {
      "text/plain": [
       "' this is a multiline\\ncomment'"
      ]
     },
     "execution_count": 1,
     "metadata": {},
     "output_type": "execute_result"
    }
   ],
   "source": [
    "#This is a long comment\n",
    "#and it extends\n",
    "#to multiple lines\n",
    "\n",
    "\"\"\"This is also a\n",
    "perfect example of\n",
    "multi-line comments\"\"\"\n",
    "\n",
    "''' this is a multiline\n",
    "comment'''\n"
   ]
  },
  {
   "cell_type": "code",
   "execution_count": 2,
   "metadata": {},
   "outputs": [
    {
     "name": "stdout",
     "output_type": "stream",
     "text": [
      "Hello\n",
      "\n",
      "Value of a= 5\n",
      "value of b=\n",
      " 3.2\n",
      "3.2 Hello\n",
      "3.2,Hello\n",
      "3.2\n"
     ]
    }
   ],
   "source": [
    "#Variable assignments\n",
    "a=10\n",
    "b=20\n",
    "a = 5; d=10 \n",
    "b , c= 3.2 , \"Hello\"\n",
    "x = y = z = \"WOrld\"\n",
    "\n",
    "#print() function\n",
    "\n",
    "print(c)\n",
    "print()\n",
    "print(\"Value of a=\",a)\n",
    "print(\"value of b=\\n\",b)\n",
    "print(b,c)\n",
    "print(b,c,sep=\",\")\n",
    "c\n",
    "print(b)"
   ]
  },
  {
   "cell_type": "code",
   "execution_count": 3,
   "metadata": {},
   "outputs": [
    {
     "name": "stdout",
     "output_type": "stream",
     "text": [
      "0.3333333333333333\n",
      "0\n",
      "1\n",
      "0.3333\n"
     ]
    }
   ],
   "source": [
    "#Division operation in Python\n",
    "print(1/3)\n",
    "\n",
    "print(1//3) #floored division\n",
    "\n",
    "print(7%3)\n",
    "\n",
    "b=1/3\n",
    "print(round(b,4))\n",
    "#print(round(1/3,2))"
   ]
  },
  {
   "cell_type": "code",
   "execution_count": 4,
   "metadata": {},
   "outputs": [
    {
     "name": "stdout",
     "output_type": "stream",
     "text": [
      "<class 'float'>\n",
      "8.2\n",
      "53.2,3.25\n",
      "<class 'str'>\n"
     ]
    }
   ],
   "source": [
    "#Python does type inferencing automatically\n",
    "a=5\n",
    "b=3.2\n",
    "print(type(b))\n",
    "print(a+b)\n",
    "a=\"5\"\n",
    "b=\"3.2\"\n",
    "print(a+b,b+a,sep=\",\")\n",
    "print(type(b))\n"
   ]
  },
  {
   "cell_type": "code",
   "execution_count": 5,
   "metadata": {
    "scrolled": false
   },
   "outputs": [
    {
     "name": "stdout",
     "output_type": "stream",
     "text": [
      "Enter your name: Nikita\n",
      "Hello  Nikita\n"
     ]
    }
   ],
   "source": [
    "#User input\n",
    "\n",
    "name=input(\"Enter your name: \")\n",
    "print(\"Hello \",name)\n"
   ]
  },
  {
   "cell_type": "code",
   "execution_count": 6,
   "metadata": {
    "scrolled": false
   },
   "outputs": [
    {
     "name": "stdout",
     "output_type": "stream",
     "text": [
      "Enter the 1st num:10\n",
      "Enter the 2nd num:20\n",
      "30.0\n"
     ]
    }
   ],
   "source": [
    "#type casting the input which is in string format by default\n",
    "num1=float(input(\"Enter the 1st num:\"))\n",
    "num2=float(input(\"Enter the 2nd num:\"))\n",
    "print(num1+num2)"
   ]
  },
  {
   "cell_type": "code",
   "execution_count": 7,
   "metadata": {},
   "outputs": [
    {
     "name": "stdout",
     "output_type": "stream",
     "text": [
      "This is the second block\n",
      "X is greater than Y\n",
      "Done\n"
     ]
    }
   ],
   "source": [
    "#Simple if-else structure\n",
    "x=20\n",
    "y=10\n",
    "\n",
    "if x<y:\n",
    "    \n",
    "    print(\"This is the first block\")\n",
    "    print(\"X is less than Y\")\n",
    "\n",
    "else:\n",
    "    print(\"This is the second block\")\n",
    "    print(\"X is greater than Y\")\n",
    "\n",
    "print(\"Done\")\n",
    "\n"
   ]
  },
  {
   "cell_type": "code",
   "execution_count": 8,
   "metadata": {},
   "outputs": [
    {
     "name": "stdout",
     "output_type": "stream",
     "text": [
      "X is greater than Y\n",
      "Executed\n",
      "Done\n"
     ]
    }
   ],
   "source": [
    "#Nested if-else structure \n",
    "x=10\n",
    "y=8\n",
    "\n",
    "if x==y:\n",
    "    print(\"X and Y are equal\")\n",
    "else:\n",
    "    if x<y:\n",
    "        print(\"X is less than Y\")\n",
    "    else:\n",
    "        print(\"X is greater than Y\")\n",
    "    print(\"Executed\")\n",
    "print(\"Done\")"
   ]
  },
  {
   "cell_type": "code",
   "execution_count": 9,
   "metadata": {},
   "outputs": [
    {
     "name": "stdout",
     "output_type": "stream",
     "text": [
      "This is the third salary bracket\n",
      "Employee belongs to High Income Group\n",
      "Done\n"
     ]
    }
   ],
   "source": [
    "#Conditional Execution statement\n",
    "#If-elif-elif-else ladder\n",
    "\n",
    "salary=80000\n",
    "\n",
    "if salary<30000:\n",
    "    print(\"This is the first salary bracket\")\n",
    "    print(\"Employee belongs to Low Income Group\")\n",
    "elif salary<60000:\n",
    "    print(\"This is the second salary bracket\")\n",
    "    print(\"Employee belongs to Medium Income Group\")\n",
    "elif salary<100000:\n",
    "    print(\"This is the third salary bracket\")\n",
    "    print(\"Employee belongs to High Income Group\")\n",
    "else:\n",
    "    print(\"This is the fourth salary bracket\")\n",
    "    print(\"Employee belongs to  Very High Income Group\")\n",
    "\n",
    "print(\"Done\")"
   ]
  },
  {
   "cell_type": "code",
   "execution_count": 10,
   "metadata": {},
   "outputs": [
    {
     "name": "stdout",
     "output_type": "stream",
     "text": [
      "Enter the num:23\n",
      "23.0 is an odd number\n"
     ]
    }
   ],
   "source": [
    "#Check for even odd number\n",
    "num1=float(input(\"Enter the num:\"))\n",
    "if num1%2==0:\n",
    "    print(num1, \"is an even number\")\n",
    "else:\n",
    "    print(num1, \"is an odd number\")"
   ]
  },
  {
   "cell_type": "code",
   "execution_count": 11,
   "metadata": {},
   "outputs": [
    {
     "name": "stdout",
     "output_type": "stream",
     "text": [
      "x is a positive single-digit number\n"
     ]
    }
   ],
   "source": [
    "#multiple condition checking using logical operators\n",
    "x=7;y=5\n",
    "if x>6 and y<7:\n",
    "    #T and F==>F\n",
    "    print('x is a positive single-digit number')\n",
    "#AND-->&\n",
    "#OR-->|\n",
    "#NOT-->!"
   ]
  },
  {
   "cell_type": "code",
   "execution_count": 12,
   "metadata": {},
   "outputs": [
    {
     "name": "stdout",
     "output_type": "stream",
     "text": [
      "x is a positive single-digit number.\n"
     ]
    }
   ],
   "source": [
    "#multiple condition evaluation\n",
    "x=11;y=9\n",
    "if ((x >7) and (y>7)) or (x==y):\n",
    "    #(F AND T) OR F\n",
    "    #F OR F==>F\n",
    "    print('x is a positive single-digit number.')"
   ]
  },
  {
   "cell_type": "code",
   "execution_count": 13,
   "metadata": {},
   "outputs": [
    {
     "data": {
      "text/plain": [
       "'\\nAND-->iff T And T=T else F\\nOR-->iff F OR F=F else T\\n'"
      ]
     },
     "execution_count": 13,
     "metadata": {},
     "output_type": "execute_result"
    }
   ],
   "source": [
    "\"\"\"\n",
    "AND-->iff T And T=T else F\n",
    "OR-->iff F OR F=F else T\n",
    "\"\"\""
   ]
  },
  {
   "cell_type": "code",
   "execution_count": 14,
   "metadata": {},
   "outputs": [],
   "source": [
    "# user defined function\n",
    "#function definition\n",
    "def area_cube(a):\n",
    "    print(\"value is = \",a)\n",
    "    return a*a*a\n",
    "#return will return a value which could be stored in a separate variable to be used later\n",
    "#print will just display the value as a message which cannot be stored and used later"
   ]
  },
  {
   "cell_type": "code",
   "execution_count": 15,
   "metadata": {},
   "outputs": [
    {
     "name": "stdout",
     "output_type": "stream",
     "text": [
      "enter a number:12\n",
      "value is =  12.0\n"
     ]
    },
    {
     "data": {
      "text/plain": [
       "1728.0"
      ]
     },
     "execution_count": 15,
     "metadata": {},
     "output_type": "execute_result"
    }
   ],
   "source": [
    "#function call\n",
    "#area=area_cube(8)\n",
    "#print(area)\n",
    "\n",
    "value=float(input(\"enter a number:\"))\n",
    "area_cube(value)\n"
   ]
  },
  {
   "cell_type": "code",
   "execution_count": 16,
   "metadata": {},
   "outputs": [
    {
     "name": "stdout",
     "output_type": "stream",
     "text": [
      "first 3\n",
      "second 4\n",
      "7\n"
     ]
    }
   ],
   "source": [
    "#parameterized UDF\n",
    "def add(b,r):\n",
    "    print(\"first\",b)\n",
    "    print(\"second\",r)\n",
    "    return b+r\n",
    "\n",
    "\n",
    "total=add(3,4)\n",
    "print(total)"
   ]
  },
  {
   "cell_type": "code",
   "execution_count": 17,
   "metadata": {},
   "outputs": [],
   "source": [
    "#parameterless UDF\n",
    "def hi():\n",
    "    print(\"Hello User!\")\n",
    "\n"
   ]
  },
  {
   "cell_type": "code",
   "execution_count": 18,
   "metadata": {
    "scrolled": true
   },
   "outputs": [
    {
     "name": "stdout",
     "output_type": "stream",
     "text": [
      "Hello User!\n"
     ]
    }
   ],
   "source": [
    "hi()\n"
   ]
  },
  {
   "cell_type": "code",
   "execution_count": 19,
   "metadata": {},
   "outputs": [
    {
     "name": "stdout",
     "output_type": "stream",
     "text": [
      "21\n",
      "17.8\n"
     ]
    },
    {
     "data": {
      "text/plain": [
       "38.8"
      ]
     },
     "execution_count": 19,
     "metadata": {},
     "output_type": "execute_result"
    }
   ],
   "source": [
    "#UDF with user input\n",
    "def addition():\n",
    "    num1=int(input())\n",
    "    num2=float(input())\n",
    "    return num1+num2\n",
    "\n",
    "addition()\n",
    "\n"
   ]
  },
  {
   "cell_type": "code",
   "execution_count": 20,
   "metadata": {},
   "outputs": [],
   "source": [
    "#Area of circle\n",
    "def area_circle(r):\n",
    "    num=3.14*r*r\n",
    "    print(num)\n"
   ]
  },
  {
   "cell_type": "code",
   "execution_count": 21,
   "metadata": {
    "scrolled": true
   },
   "outputs": [
    {
     "name": "stdout",
     "output_type": "stream",
     "text": [
      "78.5\n"
     ]
    }
   ],
   "source": [
    "area_circle(5)"
   ]
  },
  {
   "cell_type": "code",
   "execution_count": 22,
   "metadata": {},
   "outputs": [
    {
     "data": {
      "text/plain": [
       "'\\n1.While-->conditional\\n2.For-->iterative\\n'"
      ]
     },
     "execution_count": 22,
     "metadata": {},
     "output_type": "execute_result"
    }
   ],
   "source": [
    "#Types of Loops\n",
    "\"\"\"\n",
    "1.While-->conditional\n",
    "2.For-->iterative\n",
    "\"\"\""
   ]
  },
  {
   "cell_type": "code",
   "execution_count": 23,
   "metadata": {},
   "outputs": [
    {
     "data": {
      "text/plain": [
       "'\\n1.initialiation of the iterator variable-->count=0\\n2.condition evaluation-->while(count<5)\\n3.incrementation/decrementation-->count=count+1\\n\\n'"
      ]
     },
     "execution_count": 23,
     "metadata": {},
     "output_type": "execute_result"
    }
   ],
   "source": [
    "\"\"\"\n",
    "1.initialiation of the iterator variable-->count=0\n",
    "2.condition evaluation-->while(count<5)\n",
    "3.incrementation/decrementation-->count=count+1\n",
    "\n",
    "\"\"\"\n",
    "#Incrementation syntax\n",
    "#count+=1\n",
    "#count=count+1"
   ]
  },
  {
   "cell_type": "code",
   "execution_count": 24,
   "metadata": {},
   "outputs": [
    {
     "name": "stdout",
     "output_type": "stream",
     "text": [
      "0\n",
      "1\n",
      "2\n",
      "3\n",
      "4\n",
      "The loop exited because count = 5\n"
     ]
    }
   ],
   "source": [
    "#while loop\n",
    "count=0\n",
    "while count<5:\n",
    "    print(count)\n",
    "    count=count+1\n",
    "else:\n",
    "    print(\"The loop exited because count =\",count)\n",
    "    "
   ]
  },
  {
   "cell_type": "code",
   "execution_count": 25,
   "metadata": {},
   "outputs": [
    {
     "name": "stdout",
     "output_type": "stream",
     "text": [
      "2\n",
      "4\n",
      "6\n",
      "8\n",
      "10\n",
      "12\n",
      "14\n",
      "16\n",
      "18\n",
      "20\n",
      "22\n",
      "24\n",
      "26\n",
      "28\n",
      "30\n",
      "32\n",
      "34\n",
      "36\n",
      "38\n",
      "40\n",
      "42\n",
      "44\n",
      "46\n",
      "48\n",
      "50\n"
     ]
    }
   ],
   "source": [
    "#Print the even numbers from 2 to 50 using the while loop\n",
    "count=2\n",
    "while count<=50:\n",
    "    print(count)\n",
    "    count=count+2"
   ]
  },
  {
   "cell_type": "code",
   "execution_count": 26,
   "metadata": {},
   "outputs": [
    {
     "name": "stdout",
     "output_type": "stream",
     "text": [
      "50\n",
      "48\n",
      "46\n",
      "44\n",
      "42\n",
      "40\n",
      "38\n",
      "36\n",
      "34\n",
      "32\n",
      "30\n",
      "28\n",
      "26\n",
      "24\n",
      "22\n",
      "20\n",
      "18\n",
      "16\n",
      "14\n",
      "12\n",
      "10\n",
      "8\n",
      "6\n",
      "4\n",
      "2\n"
     ]
    }
   ],
   "source": [
    "#Print the even numbers from 50 to 2 using the while loop\n",
    "count=50\n",
    "while count>=2:\n",
    "    print(count)\n",
    "    count=count-2\n",
    "    "
   ]
  },
  {
   "cell_type": "code",
   "execution_count": 27,
   "metadata": {},
   "outputs": [
    {
     "name": "stdout",
     "output_type": "stream",
     "text": [
      "1  is an odd number\n",
      "2  is an even number\n",
      "3  is an odd number\n",
      "4  is an even number\n",
      "5  is an odd number\n",
      "6  is an even number\n",
      "7  is an odd number\n",
      "8  is an even number\n",
      "9  is an odd number\n",
      "10  is an even number\n",
      "11  is an odd number\n",
      "12  is an even number\n",
      "13  is an odd number\n",
      "14  is an even number\n",
      "15  is an odd number\n",
      "16  is an even number\n",
      "17  is an odd number\n",
      "18  is an even number\n",
      "19  is an odd number\n",
      "20  is an even number\n",
      "21  is an odd number\n",
      "22  is an even number\n",
      "23  is an odd number\n",
      "24  is an even number\n",
      "25  is an odd number\n",
      "26  is an even number\n",
      "27  is an odd number\n",
      "28  is an even number\n",
      "29  is an odd number\n",
      "30  is an even number\n",
      "31  is an odd number\n",
      "32  is an even number\n",
      "33  is an odd number\n",
      "34  is an even number\n",
      "35  is an odd number\n",
      "36  is an even number\n",
      "37  is an odd number\n",
      "38  is an even number\n",
      "39  is an odd number\n",
      "40  is an even number\n",
      "41  is an odd number\n",
      "42  is an even number\n",
      "43  is an odd number\n",
      "44  is an even number\n",
      "45  is an odd number\n",
      "46  is an even number\n",
      "47  is an odd number\n",
      "48  is an even number\n",
      "49  is an odd number\n",
      "50  is an even number\n"
     ]
    }
   ],
   "source": [
    "#check for even odd numbers using while loop\n",
    "count=1\n",
    "while count<=50:\n",
    "    if count%2==0:\n",
    "        print(count,\" is an even number\")\n",
    "    else:\n",
    "        print(count,\" is an odd number\")\n",
    "    count=count+1"
   ]
  },
  {
   "cell_type": "code",
   "execution_count": 28,
   "metadata": {
    "scrolled": false
   },
   "outputs": [
    {
     "name": "stdout",
     "output_type": "stream",
     "text": [
      "10 * 1  =  10\n",
      "10 * 2  =  20\n",
      "10 * 3  =  30\n",
      "10 * 4  =  40\n",
      "10 * 5  =  50\n",
      "10 * 6  =  60\n",
      "10 * 7  =  70\n",
      "10 * 8  =  80\n",
      "10 * 9  =  90\n",
      "10 * 10  =  100\n"
     ]
    }
   ],
   "source": [
    "#printing table of 10 using while loop\n",
    "i=1\n",
    "while(i<=10):\n",
    "    print(\"10 *\",i,\" = \",10*i)\n",
    "    i=i+1"
   ]
  },
  {
   "cell_type": "code",
   "execution_count": 29,
   "metadata": {
    "scrolled": false
   },
   "outputs": [
    {
     "name": "stdout",
     "output_type": "stream",
     "text": [
      "Happy Diwali A\n",
      "Happy Diwali B\n",
      "Happy Diwali C\n",
      "Happy Diwali 3.6\n"
     ]
    }
   ],
   "source": [
    "#for is an iterative loop that traverses through every element of a given data structure\n",
    "#and applies the same logic on each element\n",
    "friends = ['A', 'B', 'C',3.6]\n",
    "for f in friends:\n",
    "    print('Happy Diwali', f)\n"
   ]
  },
  {
   "cell_type": "code",
   "execution_count": 30,
   "metadata": {},
   "outputs": [
    {
     "name": "stdout",
     "output_type": "stream",
     "text": [
      "10 *  1  =  10\n",
      "10 *  2  =  20\n",
      "10 *  3  =  30\n",
      "10 *  4  =  40\n",
      "10 *  5  =  50\n",
      "10 *  6  =  60\n",
      "10 *  7  =  70\n",
      "10 *  8  =  80\n",
      "10 *  9  =  90\n",
      "10 *  10  =  100\n"
     ]
    }
   ],
   "source": [
    "#printing table of 10 using while loop\n",
    "for i in range(1,11):\n",
    "    print(\"10 * \",i,\" = \",10*i)"
   ]
  },
  {
   "cell_type": "code",
   "execution_count": 31,
   "metadata": {},
   "outputs": [
    {
     "name": "stdout",
     "output_type": "stream",
     "text": [
      "Happy Diwali 3.6\n",
      "Happy Diwali C\n",
      "Happy Diwali B\n",
      "Happy Diwali A\n"
     ]
    }
   ],
   "source": [
    "#printing in the reverse order using a for loop\n",
    "friends = ['A', 'B', 'C',3.6]\n",
    "for f in friends[::-1]:\n",
    "    print('Happy Diwali', f)"
   ]
  },
  {
   "cell_type": "code",
   "execution_count": 32,
   "metadata": {},
   "outputs": [
    {
     "name": "stdout",
     "output_type": "stream",
     "text": [
      "0\n",
      "1\n",
      "2\n",
      "3\n"
     ]
    }
   ],
   "source": [
    "#use of break statement\n",
    "\n",
    "count=0\n",
    "while(count<6):\n",
    "    print(count)\n",
    "    if count==3:\n",
    "        break\n",
    "    count +=1"
   ]
  },
  {
   "cell_type": "code",
   "execution_count": 33,
   "metadata": {},
   "outputs": [
    {
     "name": "stdout",
     "output_type": "stream",
     "text": [
      "Original String :  My Name is NIkitA\n",
      "No. of Upper case characters :  5\n",
      "No. of Lower case Characters :  9\n"
     ]
    }
   ],
   "source": [
    "#use of pass statement\n",
    "def test_string(s):\n",
    "    upcase=lowcase=0\n",
    "    for c in s:\n",
    "        if c.isupper():\n",
    "            upcase+=1\n",
    "        elif c.islower():\n",
    "            lowcase+=1\n",
    "        else:\n",
    "            pass\n",
    "    print (\"Original String : \", s)\n",
    "    print (\"No. of Upper case characters : \", upcase)\n",
    "    print (\"No. of Lower case Characters : \", lowcase)\n",
    "    \n",
    "test_string(\"My Name is NIkitA\")\n"
   ]
  },
  {
   "cell_type": "code",
   "execution_count": 34,
   "metadata": {},
   "outputs": [
    {
     "name": "stdout",
     "output_type": "stream",
     "text": [
      "15\n"
     ]
    }
   ],
   "source": [
    "#lambda function\n",
    "x = lambda a : a + 10\n",
    "print(x(5))"
   ]
  },
  {
   "cell_type": "code",
   "execution_count": 35,
   "metadata": {},
   "outputs": [
    {
     "name": "stdout",
     "output_type": "stream",
     "text": [
      "60\n"
     ]
    }
   ],
   "source": [
    "x = lambda a, b : a * b\n",
    "print(x(10, 6))"
   ]
  },
  {
   "cell_type": "code",
   "execution_count": 36,
   "metadata": {},
   "outputs": [
    {
     "name": "stdout",
     "output_type": "stream",
     "text": [
      "125\n",
      "125\n"
     ]
    }
   ],
   "source": [
    "def cube(y): \n",
    "    return y*y*y\n",
    "\n",
    "print(cube(5)) \n",
    "\n",
    "\n",
    "g = lambda x: x*x*x \n",
    "print(g(5))"
   ]
  },
  {
   "cell_type": "markdown",
   "metadata": {
    "collapsed": true
   },
   "source": [
    "**Opening,reading and writing text files**"
   ]
  },
  {
   "cell_type": "code",
   "execution_count": 37,
   "metadata": {},
   "outputs": [
    {
     "name": "stdout",
     "output_type": "stream",
     "text": [
      "Enter the file name: C:\\Users\\Nikita Tandel\\mypython\\niks\\niks\\sample.txt\n",
      "This is the finally block which will always get executed.\n",
      "This is a sample file.\n",
      "\n",
      "Just trying to check\n",
      "\n",
      "how to read and display the file content.\n",
      "Line Count: 3\n"
     ]
    }
   ],
   "source": [
    "#Opening a file in the read mode and displaying the content\n",
    "fname = input('Enter the file name: ')\n",
    "try:\n",
    "    my_file = open(fname)\n",
    "except FileNotFoundError:\n",
    "    print('File cannot be opened', fname)\n",
    "finally:\n",
    "    print(\"This is the finally block which will always get executed.\")\n",
    "\n",
    "count=0\n",
    "for line in my_file:\n",
    "    print(line)\n",
    "    count = count + 1\n",
    "    \n",
    "print('Line Count:', count)"
   ]
  },
  {
   "cell_type": "code",
   "execution_count": 39,
   "metadata": {},
   "outputs": [],
   "source": [
    "#Opening a file in the write mode and writing content to it\n",
    "\n",
    "file_write = open(r'C:\\Users\\Nikita Tandel\\mypython\\niks\\niks\\output_new.txt','a')\n",
    "\n",
    "line1 = \"Hey there!\\n\"\n",
    "file_write.write(line1)\n",
    "\n",
    "line2 = 'What are you doing?\\n'\n",
    "file_write.write(line2)\n",
    "\n",
    "file_write.close()"
   ]
  },
  {
   "cell_type": "code",
   "execution_count": null,
   "metadata": {},
   "outputs": [],
   "source": []
  }
 ],
 "metadata": {
  "kernelspec": {
   "display_name": "Python 3",
   "language": "python",
   "name": "python3"
  },
  "language_info": {
   "codemirror_mode": {
    "name": "ipython",
    "version": 3
   },
   "file_extension": ".py",
   "mimetype": "text/x-python",
   "name": "python",
   "nbconvert_exporter": "python",
   "pygments_lexer": "ipython3",
   "version": "3.7.0"
  }
 },
 "nbformat": 4,
 "nbformat_minor": 2
}
