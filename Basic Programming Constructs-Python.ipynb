{
 "cells": [
  {
   "cell_type": "code",
   "execution_count": null,
   "metadata": {
    "scrolled": true
   },
   "outputs": [],
   "source": [
    "#This is a long comment\n",
    "#and it extends\n",
    "#to multiple lines\n",
    "\n",
    "\"\"\"This is also a\n",
    "perfect example of\n",
    "multi-line comments\"\"\"\n",
    "\n",
    "''' this is a multiline\n",
    "comment'''\n"
   ]
  },
  {
   "cell_type": "code",
   "execution_count": 3,
   "metadata": {
    "collapsed": true
   },
   "outputs": [
    {
     "name": "stdout",
     "output_type": "stream",
     "text": [
      "Hello\n",
      "\n",
      "Value of a= 5\n",
      "value of b=\n",
      " 3.2\n",
      "3.2 Hello\n",
      "3.2,Hello\n",
      "3.2\n"
     ]
    }
   ],
   "source": [
    "a=10\n",
    "b=20\n",
    "a = 5; d=10 \n",
    "b , c= 3.2 , \"Hello\"\n",
    "x = y = z = \"WOrld\"\n",
    "\n",
    "print(c)\n",
    "print()\n",
    "print(\"Value of a=\",a)\n",
    "print(\"value of b=\\n\",b)\n",
    "print(b,c)\n",
    "print(b,c,sep=\",\")\n",
    "c\n",
    "print(b)"
   ]
  },
  {
   "cell_type": "code",
   "execution_count": 5,
   "metadata": {
    "collapsed": true
   },
   "outputs": [
    {
     "name": "stdout",
     "output_type": "stream",
     "text": [
      "0.3333333333333333\n",
      "0\n",
      "1\n",
      "0.3333\n"
     ]
    }
   ],
   "source": [
    "#Division operation in Python\n",
    "print(1/3)\n",
    "\n",
    "print(1//3) #floored division\n",
    "\n",
    "print(7%3)\n",
    "\n",
    "b=1/3\n",
    "print(round(b,4))\n",
    "#print(round(1/3,2))"
   ]
  },
  {
   "cell_type": "markdown",
   "metadata": {},
   "source": [
    "This was the division operation in Python"
   ]
  },
  {
   "cell_type": "code",
   "execution_count": 8,
   "metadata": {
    "collapsed": true
   },
   "outputs": [
    {
     "name": "stdout",
     "output_type": "stream",
     "text": [
      "<class 'float'>\n",
      "8.2\n",
      "53.2,3.25\n",
      "<class 'str'>\n"
     ]
    }
   ],
   "source": [
    "a=5\n",
    "b=3.2\n",
    "print(type(b))\n",
    "print(a+b)\n",
    "a=\"5\"\n",
    "b=\"3.2\"\n",
    "print(a+b,b+a,sep=\",\")\n",
    "print(type(b))\n"
   ]
  },
  {
   "cell_type": "code",
   "execution_count": 1,
   "metadata": {
    "scrolled": false
   },
   "outputs": [
    {
     "name": "stdout",
     "output_type": "stream",
     "text": [
      "Enter your name: Nikita\n",
      "Hello  Nikita\n"
     ]
    }
   ],
   "source": [
    "#User input\n",
    "\n",
    "name=input(\"Enter your name: \")\n",
    "print(\"Hello \",name)\n"
   ]
  },
  {
   "cell_type": "code",
   "execution_count": 3,
   "metadata": {
    "collapsed": true
   },
   "outputs": [
    {
     "name": "stdout",
     "output_type": "stream",
     "text": [
      "20\n",
      "40\n"
     ]
    },
    {
     "ename": "TypeError",
     "evalue": "can't multiply sequence by non-int of type 'str'",
     "output_type": "error",
     "traceback": [
      "\u001b[1;31m---------------------------------------------------------------------------\u001b[0m",
      "\u001b[1;31mTypeError\u001b[0m                                 Traceback (most recent call last)",
      "\u001b[1;32m<ipython-input-3-b1b2135546ea>\u001b[0m in \u001b[0;36m<module>\u001b[1;34m()\u001b[0m\n\u001b[0;32m      1\u001b[0m \u001b[0mnum1\u001b[0m\u001b[1;33m=\u001b[0m\u001b[0minput\u001b[0m\u001b[1;33m(\u001b[0m\u001b[1;33m)\u001b[0m\u001b[1;33m\u001b[0m\u001b[0m\n\u001b[0;32m      2\u001b[0m \u001b[0mnum2\u001b[0m\u001b[1;33m=\u001b[0m\u001b[0minput\u001b[0m\u001b[1;33m(\u001b[0m\u001b[1;33m)\u001b[0m\u001b[1;33m\u001b[0m\u001b[0m\n\u001b[1;32m----> 3\u001b[1;33m \u001b[0mprint\u001b[0m\u001b[1;33m(\u001b[0m\u001b[0mnum1\u001b[0m\u001b[1;33m*\u001b[0m\u001b[0mnum2\u001b[0m\u001b[1;33m)\u001b[0m\u001b[1;33m\u001b[0m\u001b[0m\n\u001b[0m",
      "\u001b[1;31mTypeError\u001b[0m: can't multiply sequence by non-int of type 'str'"
     ]
    }
   ],
   "source": [
    "num1=input()\n",
    "num2=input()\n",
    "print(num1*num2)"
   ]
  },
  {
   "cell_type": "code",
   "execution_count": 4,
   "metadata": {
    "scrolled": false
   },
   "outputs": [
    {
     "name": "stdout",
     "output_type": "stream",
     "text": [
      "Enter the 1st num:12.5\n",
      "Enter the 2nd num:35.8\n",
      "48.3\n"
     ]
    }
   ],
   "source": [
    "num1=float(input(\"Enter the 1st num:\"))\n",
    "num2=float(input(\"Enter the 2nd num:\"))\n",
    "print(num1+num2)"
   ]
  },
  {
   "cell_type": "code",
   "execution_count": 6,
   "metadata": {
    "collapsed": true
   },
   "outputs": [
    {
     "name": "stdout",
     "output_type": "stream",
     "text": [
      "This is the second block\n",
      "X is greater than Y\n",
      "Done\n"
     ]
    }
   ],
   "source": [
    "x=20\n",
    "y=10\n",
    "\n",
    "if x<y:\n",
    "    \n",
    "    print(\"This is the first block\")\n",
    "    print(\"X is less than Y\")\n",
    "\n",
    "else:\n",
    "    print(\"This is the second block\")\n",
    "    print(\"X is greater than Y\")\n",
    "\n",
    "print(\"Done\")\n",
    "\n"
   ]
  },
  {
   "cell_type": "code",
   "execution_count": null,
   "metadata": {},
   "outputs": [],
   "source": []
  },
  {
   "cell_type": "code",
   "execution_count": null,
   "metadata": {
    "scrolled": true
   },
   "outputs": [],
   "source": [
    "x=5;y=3\n",
    "if x<y:\n",
    "    print(\"This is the first block of execution\")\n",
    "    print(\"X is less than Y\")\n",
    "else:\n",
    "    print(\"This is the second block of execution\")\n",
    "    print(\"X is greater than Y\")\n",
    "\n",
    "print(\"this code is exiting\")\n",
    "\n"
   ]
  },
  {
   "cell_type": "code",
   "execution_count": 7,
   "metadata": {},
   "outputs": [
    {
     "name": "stdout",
     "output_type": "stream",
     "text": [
      "X is greater than Y\n",
      "Executed\n",
      "Done\n"
     ]
    }
   ],
   "source": [
    "x=10\n",
    "y=8\n",
    "\n",
    "if x==y:\n",
    "    print(\"X and Y are equal\")\n",
    "else:\n",
    "    if x<y:\n",
    "        print(\"X is less than Y\")\n",
    "    else:\n",
    "        print(\"X is greater than Y\")\n",
    "    print(\"Executed\")\n",
    "print(\"Done\")"
   ]
  },
  {
   "cell_type": "code",
   "execution_count": 1,
   "metadata": {
    "collapsed": true
   },
   "outputs": [
    {
     "name": "stdout",
     "output_type": "stream",
     "text": [
      "This is the third salary bracket\n",
      "Employee belongs to High Income Group\n",
      "Done\n"
     ]
    }
   ],
   "source": [
    "#Conditional Execution statement\n",
    "#If-elif-elif-else ladder\n",
    "\n",
    "salary=80000\n",
    "\n",
    "if salary<30000:\n",
    "    print(\"This is the first salary bracket\")\n",
    "    print(\"Employee belongs to Low Income Group\")\n",
    "elif salary<60000:\n",
    "    print(\"This is the second salary bracket\")\n",
    "    print(\"Employee belongs to Medium Income Group\")\n",
    "elif salary<100000:\n",
    "    print(\"This is the third salary bracket\")\n",
    "    print(\"Employee belongs to High Income Group\")\n",
    "else:\n",
    "    print(\"This is the fourth salary bracket\")\n",
    "    print(\"Employee belongs to  Very High Income Group\")\n",
    "\n",
    "print(\"Done\")"
   ]
  },
  {
   "cell_type": "code",
   "execution_count": 2,
   "metadata": {},
   "outputs": [
    {
     "name": "stdout",
     "output_type": "stream",
     "text": [
      "Enter the num:10\n",
      "10.0 is an even number\n"
     ]
    }
   ],
   "source": [
    "num1=float(input(\"Enter the num:\"))\n",
    "if num1%2==0:\n",
    "    print(num1, \"is an even number\")\n",
    "else:\n",
    "    print(num1, \"is an odd number\")"
   ]
  },
  {
   "cell_type": "code",
   "execution_count": 4,
   "metadata": {},
   "outputs": [
    {
     "name": "stdout",
     "output_type": "stream",
     "text": [
      "x is a positive single-digit number\n"
     ]
    }
   ],
   "source": [
    "x=7;y=5\n",
    "if x>6 and y<7:\n",
    "    #T and F==>F\n",
    "    print('x is a positive single-digit number')\n",
    "#AND-->&\n",
    "#OR-->|\n",
    "#NOT-->!"
   ]
  },
  {
   "cell_type": "code",
   "execution_count": 7,
   "metadata": {},
   "outputs": [
    {
     "name": "stdout",
     "output_type": "stream",
     "text": [
      "x is a positive single-digit number.\n"
     ]
    }
   ],
   "source": [
    "#multiple condition evaluation\n",
    "x=11;y=9\n",
    "if ((x >7) and (y>7)) or (x==y):\n",
    "    #(F AND T) OR F\n",
    "    #F OR F==>F\n",
    "    print('x is a positive single-digit number.')"
   ]
  },
  {
   "cell_type": "code",
   "execution_count": null,
   "metadata": {},
   "outputs": [],
   "source": [
    "\"\"\"\n",
    "AND-->iff T And T=T else F\n",
    "OR-->iff F OR F=F else T\n",
    "\"\"\""
   ]
  },
  {
   "cell_type": "code",
   "execution_count": 2,
   "metadata": {},
   "outputs": [],
   "source": [
    "# user defined function\n",
    "#function definition\n",
    "def area_cube(a):\n",
    "    print(\"value is = \",a)\n",
    "    return a*a*a\n",
    "#return will return a value which could be stored in a separate variable to be used later\n",
    "#print will just display the value as a message which cannot be stored and used later"
   ]
  },
  {
   "cell_type": "code",
   "execution_count": 3,
   "metadata": {
    "collapsed": true
   },
   "outputs": [
    {
     "name": "stdout",
     "output_type": "stream",
     "text": [
      "enter a number:12.5\n",
      "value is =  12.5\n"
     ]
    },
    {
     "data": {
      "text/plain": [
       "1953.125"
      ]
     },
     "execution_count": 3,
     "metadata": {},
     "output_type": "execute_result"
    }
   ],
   "source": [
    "#function call\n",
    "#area=area_cube(8)\n",
    "#print(area)\n",
    "\n",
    "value=float(input(\"enter a number:\"))\n",
    "area_cube(value)\n"
   ]
  },
  {
   "cell_type": "code",
   "execution_count": null,
   "metadata": {},
   "outputs": [],
   "source": [
    "def add(b,r):\n",
    "    print(\"first\",b)\n",
    "    print(\"second\",r)\n",
    "    return b+r\n",
    "\n",
    "\n",
    "total=add(3,4)\n",
    "print(total)"
   ]
  },
  {
   "cell_type": "code",
   "execution_count": 4,
   "metadata": {},
   "outputs": [],
   "source": [
    "def hi():\n",
    "    print(\"Hello User!\")\n",
    "\n"
   ]
  },
  {
   "cell_type": "code",
   "execution_count": 7,
   "metadata": {
    "scrolled": true
   },
   "outputs": [
    {
     "name": "stdout",
     "output_type": "stream",
     "text": [
      "Hello User!\n"
     ]
    }
   ],
   "source": [
    "hi()\n"
   ]
  },
  {
   "cell_type": "code",
   "execution_count": 10,
   "metadata": {
    "collapsed": true
   },
   "outputs": [
    {
     "name": "stdout",
     "output_type": "stream",
     "text": [
      "10.5\n",
      "15.6\n"
     ]
    },
    {
     "data": {
      "text/plain": [
       "26.1"
      ]
     },
     "execution_count": 10,
     "metadata": {},
     "output_type": "execute_result"
    }
   ],
   "source": [
    "def addition():\n",
    "    num1=int(input())\n",
    "    num2=float(input())\n",
    "    return num1+num2\n",
    "\n",
    "addition()\n",
    "\n"
   ]
  },
  {
   "cell_type": "code",
   "execution_count": null,
   "metadata": {},
   "outputs": [],
   "source": [
    "\n",
    "def area_circle(r):\n",
    "    num=3.14*r*r\n",
    "    print(num)\n"
   ]
  },
  {
   "cell_type": "code",
   "execution_count": null,
   "metadata": {
    "scrolled": true
   },
   "outputs": [],
   "source": [
    "area_circle(5)"
   ]
  },
  {
   "cell_type": "code",
   "execution_count": null,
   "metadata": {},
   "outputs": [],
   "source": [
    "\n",
    "\"\"\"\n",
    "1.While-->conditional\n",
    "2.For-->iterative\n",
    "\"\"\""
   ]
  },
  {
   "cell_type": "code",
   "execution_count": null,
   "metadata": {},
   "outputs": [],
   "source": [
    "\"\"\"\n",
    "1.initialiation of the iterator variable-->count=0\n",
    "2.condition evaluation-->while(count<5)\n",
    "3.incrementation/decrementation-->count=count+1\n",
    "\n",
    "\"\"\"\n",
    "\n",
    "#count+=1\n",
    "#count=count+1"
   ]
  },
  {
   "cell_type": "code",
   "execution_count": 1,
   "metadata": {},
   "outputs": [
    {
     "name": "stdout",
     "output_type": "stream",
     "text": [
      "0\n",
      "1\n",
      "2\n",
      "3\n",
      "4\n",
      "The loop exited because count = 5\n"
     ]
    }
   ],
   "source": [
    "count=0\n",
    "while count<5:\n",
    "    print(count)\n",
    "    count=count+1\n",
    "else:\n",
    "    print(\"The loop exited because count =\",count)\n",
    "    "
   ]
  },
  {
   "cell_type": "code",
   "execution_count": 2,
   "metadata": {
    "collapsed": true
   },
   "outputs": [
    {
     "name": "stdout",
     "output_type": "stream",
     "text": [
      "2\n",
      "4\n",
      "6\n",
      "8\n",
      "10\n",
      "12\n",
      "14\n",
      "16\n",
      "18\n",
      "20\n",
      "22\n",
      "24\n",
      "26\n",
      "28\n",
      "30\n",
      "32\n",
      "34\n",
      "36\n",
      "38\n",
      "40\n",
      "42\n",
      "44\n",
      "46\n",
      "48\n",
      "50\n"
     ]
    }
   ],
   "source": [
    "#Print the even numbers from 2 to 50 using the while loop\n",
    "count=2\n",
    "while count<=50:\n",
    "    print(count)\n",
    "    count=count+2"
   ]
  },
  {
   "cell_type": "code",
   "execution_count": 3,
   "metadata": {
    "collapsed": true
   },
   "outputs": [
    {
     "name": "stdout",
     "output_type": "stream",
     "text": [
      "50\n",
      "48\n",
      "46\n",
      "44\n",
      "42\n",
      "40\n",
      "38\n",
      "36\n",
      "34\n",
      "32\n",
      "30\n",
      "28\n",
      "26\n",
      "24\n",
      "22\n",
      "20\n",
      "18\n",
      "16\n",
      "14\n",
      "12\n",
      "10\n",
      "8\n",
      "6\n",
      "4\n",
      "2\n"
     ]
    }
   ],
   "source": [
    "#Print the even numbers from 50 to 2 using the while loop\n",
    "count=50\n",
    "while count>=2:\n",
    "    print(count)\n",
    "    count=count-2\n",
    "    "
   ]
  },
  {
   "cell_type": "code",
   "execution_count": 4,
   "metadata": {
    "collapsed": true
   },
   "outputs": [
    {
     "name": "stdout",
     "output_type": "stream",
     "text": [
      "1  is an odd number\n",
      "2  is an even number\n",
      "3  is an odd number\n",
      "4  is an even number\n",
      "5  is an odd number\n",
      "6  is an even number\n",
      "7  is an odd number\n",
      "8  is an even number\n",
      "9  is an odd number\n",
      "10  is an even number\n",
      "11  is an odd number\n",
      "12  is an even number\n",
      "13  is an odd number\n",
      "14  is an even number\n",
      "15  is an odd number\n",
      "16  is an even number\n",
      "17  is an odd number\n",
      "18  is an even number\n",
      "19  is an odd number\n",
      "20  is an even number\n",
      "21  is an odd number\n",
      "22  is an even number\n",
      "23  is an odd number\n",
      "24  is an even number\n",
      "25  is an odd number\n",
      "26  is an even number\n",
      "27  is an odd number\n",
      "28  is an even number\n",
      "29  is an odd number\n",
      "30  is an even number\n",
      "31  is an odd number\n",
      "32  is an even number\n",
      "33  is an odd number\n",
      "34  is an even number\n",
      "35  is an odd number\n",
      "36  is an even number\n",
      "37  is an odd number\n",
      "38  is an even number\n",
      "39  is an odd number\n",
      "40  is an even number\n",
      "41  is an odd number\n",
      "42  is an even number\n",
      "43  is an odd number\n",
      "44  is an even number\n",
      "45  is an odd number\n",
      "46  is an even number\n",
      "47  is an odd number\n",
      "48  is an even number\n",
      "49  is an odd number\n",
      "50  is an even number\n"
     ]
    }
   ],
   "source": [
    "count=1\n",
    "while count<=50:\n",
    "    if count%2==0:\n",
    "        print(count,\" is an even number\")\n",
    "    else:\n",
    "        print(count,\" is an odd number\")\n",
    "    count=count+1"
   ]
  },
  {
   "cell_type": "code",
   "execution_count": 5,
   "metadata": {},
   "outputs": [
    {
     "name": "stdout",
     "output_type": "stream",
     "text": [
      "10 * 1  =  10\n",
      "10 * 2  =  20\n",
      "10 * 3  =  30\n",
      "10 * 4  =  40\n",
      "10 * 5  =  50\n",
      "10 * 6  =  60\n",
      "10 * 7  =  70\n",
      "10 * 8  =  80\n",
      "10 * 9  =  90\n",
      "10 * 10  =  100\n",
      "10 * 11  =  110\n",
      "10 * 12  =  120\n",
      "10 * 13  =  130\n",
      "10 * 14  =  140\n",
      "10 * 15  =  150\n",
      "10 * 16  =  160\n",
      "10 * 17  =  170\n",
      "10 * 18  =  180\n",
      "10 * 19  =  190\n",
      "10 * 20  =  200\n",
      "10 * 21  =  210\n",
      "10 * 22  =  220\n",
      "10 * 23  =  230\n",
      "10 * 24  =  240\n",
      "10 * 25  =  250\n",
      "10 * 26  =  260\n",
      "10 * 27  =  270\n",
      "10 * 28  =  280\n",
      "10 * 29  =  290\n",
      "10 * 30  =  300\n",
      "10 * 31  =  310\n",
      "10 * 32  =  320\n",
      "10 * 33  =  330\n",
      "10 * 34  =  340\n",
      "10 * 35  =  350\n",
      "10 * 36  =  360\n",
      "10 * 37  =  370\n",
      "10 * 38  =  380\n",
      "10 * 39  =  390\n",
      "10 * 40  =  400\n",
      "10 * 41  =  410\n",
      "10 * 42  =  420\n",
      "10 * 43  =  430\n",
      "10 * 44  =  440\n",
      "10 * 45  =  450\n",
      "10 * 46  =  460\n",
      "10 * 47  =  470\n",
      "10 * 48  =  480\n",
      "10 * 49  =  490\n",
      "10 * 50  =  500\n",
      "10 * 51  =  510\n",
      "10 * 52  =  520\n",
      "10 * 53  =  530\n",
      "10 * 54  =  540\n",
      "10 * 55  =  550\n",
      "10 * 56  =  560\n",
      "10 * 57  =  570\n",
      "10 * 58  =  580\n",
      "10 * 59  =  590\n",
      "10 * 60  =  600\n",
      "10 * 61  =  610\n",
      "10 * 62  =  620\n",
      "10 * 63  =  630\n",
      "10 * 64  =  640\n",
      "10 * 65  =  650\n",
      "10 * 66  =  660\n",
      "10 * 67  =  670\n",
      "10 * 68  =  680\n",
      "10 * 69  =  690\n",
      "10 * 70  =  700\n",
      "10 * 71  =  710\n",
      "10 * 72  =  720\n",
      "10 * 73  =  730\n",
      "10 * 74  =  740\n",
      "10 * 75  =  750\n",
      "10 * 76  =  760\n",
      "10 * 77  =  770\n",
      "10 * 78  =  780\n",
      "10 * 79  =  790\n",
      "10 * 80  =  800\n",
      "10 * 81  =  810\n",
      "10 * 82  =  820\n",
      "10 * 83  =  830\n",
      "10 * 84  =  840\n",
      "10 * 85  =  850\n",
      "10 * 86  =  860\n",
      "10 * 87  =  870\n",
      "10 * 88  =  880\n",
      "10 * 89  =  890\n",
      "10 * 90  =  900\n",
      "10 * 91  =  910\n",
      "10 * 92  =  920\n",
      "10 * 93  =  930\n",
      "10 * 94  =  940\n",
      "10 * 95  =  950\n",
      "10 * 96  =  960\n",
      "10 * 97  =  970\n",
      "10 * 98  =  980\n",
      "10 * 99  =  990\n",
      "10 * 100  =  1000\n"
     ]
    }
   ],
   "source": [
    "i=1\n",
    "while(i<=100):\n",
    "    print(\"10 *\",i,\" = \",10*i)\n",
    "    i=i+1"
   ]
  },
  {
   "cell_type": "code",
   "execution_count": null,
   "metadata": {},
   "outputs": [],
   "source": []
  },
  {
   "cell_type": "code",
   "execution_count": null,
   "metadata": {},
   "outputs": [],
   "source": []
  },
  {
   "cell_type": "code",
   "execution_count": 6,
   "metadata": {
    "scrolled": false
   },
   "outputs": [
    {
     "name": "stdout",
     "output_type": "stream",
     "text": [
      "Happy Diwali A\n",
      "Happy Diwali B\n",
      "Happy Diwali C\n",
      "Happy Diwali 3.6\n"
     ]
    }
   ],
   "source": [
    "#for is an iterative loop that traverses through every element of a given data structure\n",
    "#and applies the same logic on each element\n",
    "friends = ['A', 'B', 'C',3.6]\n",
    "for f in friends:\n",
    "    print('Happy Diwali', f)\n"
   ]
  },
  {
   "cell_type": "code",
   "execution_count": 9,
   "metadata": {
    "collapsed": true
   },
   "outputs": [
    {
     "name": "stdout",
     "output_type": "stream",
     "text": [
      "10 *  1  =  10\n",
      "10 *  2  =  20\n",
      "10 *  3  =  30\n",
      "10 *  4  =  40\n",
      "10 *  5  =  50\n",
      "10 *  6  =  60\n",
      "10 *  7  =  70\n",
      "10 *  8  =  80\n",
      "10 *  9  =  90\n",
      "10 *  10  =  100\n",
      "10 *  11  =  110\n",
      "10 *  12  =  120\n",
      "10 *  13  =  130\n",
      "10 *  14  =  140\n",
      "10 *  15  =  150\n",
      "10 *  16  =  160\n",
      "10 *  17  =  170\n",
      "10 *  18  =  180\n",
      "10 *  19  =  190\n",
      "10 *  20  =  200\n",
      "10 *  21  =  210\n",
      "10 *  22  =  220\n",
      "10 *  23  =  230\n",
      "10 *  24  =  240\n",
      "10 *  25  =  250\n",
      "10 *  26  =  260\n",
      "10 *  27  =  270\n",
      "10 *  28  =  280\n",
      "10 *  29  =  290\n",
      "10 *  30  =  300\n",
      "10 *  31  =  310\n",
      "10 *  32  =  320\n",
      "10 *  33  =  330\n",
      "10 *  34  =  340\n",
      "10 *  35  =  350\n",
      "10 *  36  =  360\n",
      "10 *  37  =  370\n",
      "10 *  38  =  380\n",
      "10 *  39  =  390\n",
      "10 *  40  =  400\n",
      "10 *  41  =  410\n",
      "10 *  42  =  420\n",
      "10 *  43  =  430\n",
      "10 *  44  =  440\n",
      "10 *  45  =  450\n",
      "10 *  46  =  460\n",
      "10 *  47  =  470\n",
      "10 *  48  =  480\n",
      "10 *  49  =  490\n",
      "10 *  50  =  500\n",
      "10 *  51  =  510\n",
      "10 *  52  =  520\n",
      "10 *  53  =  530\n",
      "10 *  54  =  540\n",
      "10 *  55  =  550\n",
      "10 *  56  =  560\n",
      "10 *  57  =  570\n",
      "10 *  58  =  580\n",
      "10 *  59  =  590\n",
      "10 *  60  =  600\n",
      "10 *  61  =  610\n",
      "10 *  62  =  620\n",
      "10 *  63  =  630\n",
      "10 *  64  =  640\n",
      "10 *  65  =  650\n",
      "10 *  66  =  660\n",
      "10 *  67  =  670\n",
      "10 *  68  =  680\n",
      "10 *  69  =  690\n",
      "10 *  70  =  700\n",
      "10 *  71  =  710\n",
      "10 *  72  =  720\n",
      "10 *  73  =  730\n",
      "10 *  74  =  740\n",
      "10 *  75  =  750\n",
      "10 *  76  =  760\n",
      "10 *  77  =  770\n",
      "10 *  78  =  780\n",
      "10 *  79  =  790\n",
      "10 *  80  =  800\n",
      "10 *  81  =  810\n",
      "10 *  82  =  820\n",
      "10 *  83  =  830\n",
      "10 *  84  =  840\n",
      "10 *  85  =  850\n",
      "10 *  86  =  860\n",
      "10 *  87  =  870\n",
      "10 *  88  =  880\n",
      "10 *  89  =  890\n",
      "10 *  90  =  900\n",
      "10 *  91  =  910\n",
      "10 *  92  =  920\n",
      "10 *  93  =  930\n",
      "10 *  94  =  940\n",
      "10 *  95  =  950\n",
      "10 *  96  =  960\n",
      "10 *  97  =  970\n",
      "10 *  98  =  980\n",
      "10 *  99  =  990\n",
      "10 *  100  =  1000\n"
     ]
    }
   ],
   "source": [
    "for i in range(1,101):\n",
    "    print(\"10 * \",i,\" = \",10*i)"
   ]
  },
  {
   "cell_type": "code",
   "execution_count": 11,
   "metadata": {},
   "outputs": [
    {
     "name": "stdout",
     "output_type": "stream",
     "text": [
      "Happy Diwali 3.6\n",
      "Happy Diwali C\n",
      "Happy Diwali B\n",
      "Happy Diwali A\n"
     ]
    }
   ],
   "source": [
    "friends = ['A', 'B', 'C',3.6]\n",
    "for f in friends[::-1]:\n",
    "    print('Happy Diwali', f)"
   ]
  },
  {
   "cell_type": "code",
   "execution_count": 10,
   "metadata": {
    "collapsed": true
   },
   "outputs": [
    {
     "name": "stdout",
     "output_type": "stream",
     "text": [
      "101\n",
      "10 *  1  =  10\n",
      "10 *  2  =  20\n",
      "10 *  3  =  30\n",
      "10 *  4  =  40\n",
      "10 *  5  =  50\n",
      "10 *  6  =  60\n",
      "10 *  7  =  70\n",
      "10 *  8  =  80\n",
      "10 *  9  =  90\n",
      "10 *  10  =  100\n",
      "10 *  11  =  110\n",
      "10 *  12  =  120\n",
      "10 *  13  =  130\n",
      "10 *  14  =  140\n",
      "10 *  15  =  150\n",
      "10 *  16  =  160\n",
      "10 *  17  =  170\n",
      "10 *  18  =  180\n",
      "10 *  19  =  190\n",
      "10 *  20  =  200\n",
      "10 *  21  =  210\n",
      "10 *  22  =  220\n",
      "10 *  23  =  230\n",
      "10 *  24  =  240\n",
      "10 *  25  =  250\n",
      "10 *  26  =  260\n",
      "10 *  27  =  270\n",
      "10 *  28  =  280\n",
      "10 *  29  =  290\n",
      "10 *  30  =  300\n",
      "10 *  31  =  310\n",
      "10 *  32  =  320\n",
      "10 *  33  =  330\n",
      "10 *  34  =  340\n",
      "10 *  35  =  350\n",
      "10 *  36  =  360\n",
      "10 *  37  =  370\n",
      "10 *  38  =  380\n",
      "10 *  39  =  390\n",
      "10 *  40  =  400\n",
      "10 *  41  =  410\n",
      "10 *  42  =  420\n",
      "10 *  43  =  430\n",
      "10 *  44  =  440\n",
      "10 *  45  =  450\n",
      "10 *  46  =  460\n",
      "10 *  47  =  470\n",
      "10 *  48  =  480\n",
      "10 *  49  =  490\n",
      "10 *  50  =  500\n",
      "10 *  51  =  510\n",
      "10 *  52  =  520\n",
      "10 *  53  =  530\n",
      "10 *  54  =  540\n",
      "10 *  55  =  550\n",
      "10 *  56  =  560\n",
      "10 *  57  =  570\n",
      "10 *  58  =  580\n",
      "10 *  59  =  590\n",
      "10 *  60  =  600\n",
      "10 *  61  =  610\n",
      "10 *  62  =  620\n",
      "10 *  63  =  630\n",
      "10 *  64  =  640\n",
      "10 *  65  =  650\n",
      "10 *  66  =  660\n",
      "10 *  67  =  670\n",
      "10 *  68  =  680\n",
      "10 *  69  =  690\n",
      "10 *  70  =  700\n",
      "10 *  71  =  710\n",
      "10 *  72  =  720\n",
      "10 *  73  =  730\n",
      "10 *  74  =  740\n",
      "10 *  75  =  750\n",
      "10 *  76  =  760\n",
      "10 *  77  =  770\n",
      "10 *  78  =  780\n",
      "10 *  79  =  790\n",
      "10 *  80  =  800\n",
      "10 *  81  =  810\n",
      "10 *  82  =  820\n",
      "10 *  83  =  830\n",
      "10 *  84  =  840\n",
      "10 *  85  =  850\n",
      "10 *  86  =  860\n",
      "10 *  87  =  870\n",
      "10 *  88  =  880\n",
      "10 *  89  =  890\n",
      "10 *  90  =  900\n",
      "10 *  91  =  910\n",
      "10 *  92  =  920\n",
      "10 *  93  =  930\n",
      "10 *  94  =  940\n",
      "10 *  95  =  950\n",
      "10 *  96  =  960\n",
      "10 *  97  =  970\n",
      "10 *  98  =  980\n",
      "10 *  99  =  990\n",
      "10 *  100  =  1000\n"
     ]
    }
   ],
   "source": [
    "for i in range(1,int(input())):\n",
    "    print(\"10 * \",i,\" = \",10*i)"
   ]
  },
  {
   "cell_type": "code",
   "execution_count": null,
   "metadata": {},
   "outputs": [],
   "source": []
  },
  {
   "cell_type": "code",
   "execution_count": null,
   "metadata": {},
   "outputs": [],
   "source": []
  },
  {
   "cell_type": "code",
   "execution_count": null,
   "metadata": {},
   "outputs": [],
   "source": []
  },
  {
   "cell_type": "code",
   "execution_count": null,
   "metadata": {},
   "outputs": [],
   "source": []
  },
  {
   "cell_type": "code",
   "execution_count": null,
   "metadata": {},
   "outputs": [],
   "source": []
  },
  {
   "cell_type": "code",
   "execution_count": null,
   "metadata": {},
   "outputs": [],
   "source": []
  },
  {
   "cell_type": "code",
   "execution_count": null,
   "metadata": {},
   "outputs": [],
   "source": []
  },
  {
   "cell_type": "code",
   "execution_count": null,
   "metadata": {},
   "outputs": [],
   "source": [
    "x=7\n",
    "y=5\n",
    "\n",
    "if x<y:\n",
    "    print(\"x is less than y\")\n",
    "else:\n",
    "    print(\"x is greater than y\")"
   ]
  },
  {
   "cell_type": "code",
   "execution_count": null,
   "metadata": {},
   "outputs": [],
   "source": [
    "x=3\n",
    "y=5\n",
    "\n",
    "if x < y:\n",
    "\n",
    "    print(\"This is the first block\")\n",
    "    print('x is less than y')\n",
    "\n",
    "elif x > y:\n",
    "    print('x is greater than y')\n",
    "else:\n",
    "    print('x and y are equal')\n",
    "    \n",
    "print(\"Done\")"
   ]
  },
  {
   "cell_type": "code",
   "execution_count": null,
   "metadata": {
    "scrolled": true
   },
   "outputs": [],
   "source": [
    "if x == y:\n",
    "    print('x and y are equal')\n",
    "else:\n",
    "    if x < y:\n",
    "        print('x is less than y')\n",
    "    \n",
    "    else:\n",
    "        print('x is greater than y')\n",
    "\n",
    "print(\"done\")"
   ]
  },
  {
   "cell_type": "code",
   "execution_count": null,
   "metadata": {
    "scrolled": true
   },
   "outputs": [],
   "source": [
    "x=5;y=8\n",
    "if (x >7 & y>7) | (x!=y):\n",
    "    #F OR T\n",
    "    print('x is a positive single-digit number.')\n",
    "    "
   ]
  },
  {
   "cell_type": "code",
   "execution_count": null,
   "metadata": {},
   "outputs": [],
   "source": [
    "# user defined function\n",
    "\n",
    "def square(a):\n",
    "    print(\"value is = \",a)\n",
    "    return a*a\n",
    "\n"
   ]
  },
  {
   "cell_type": "code",
   "execution_count": null,
   "metadata": {},
   "outputs": [],
   "source": [
    "square(10)\n",
    "\n",
    "#value=int(float(input(\"enter a number:\")))\n",
    "#square(value)\n",
    "\n"
   ]
  },
  {
   "cell_type": "code",
   "execution_count": null,
   "metadata": {},
   "outputs": [],
   "source": [
    "def hi():\n",
    "    print(\"Hello User!\")\n",
    "\n"
   ]
  },
  {
   "cell_type": "code",
   "execution_count": null,
   "metadata": {},
   "outputs": [],
   "source": [
    "hi()\n"
   ]
  },
  {
   "cell_type": "code",
   "execution_count": null,
   "metadata": {},
   "outputs": [],
   "source": [
    "#conditional\n",
    "\n",
    "count=0 #iterator variable initialization\n",
    "while(count<5): #condition evaluation\n",
    "    print(count)\n",
    "    count +=1 #incrementation\n",
    "    #count=count+1\n",
    "else:\n",
    "    print(\"count value reached \" ,count)"
   ]
  },
  {
   "cell_type": "code",
   "execution_count": null,
   "metadata": {
    "scrolled": true
   },
   "outputs": [],
   "source": [
    "#iterative loop\n",
    "\n",
    "friends = ['A', 'B', 'C',3.6]\n",
    "for f in friends:\n",
    "    print('Happy Diwali', f)\n"
   ]
  },
  {
   "cell_type": "code",
   "execution_count": null,
   "metadata": {
    "scrolled": true
   },
   "outputs": [],
   "source": [
    "for i in range(1,101):\n",
    "    print(i)"
   ]
  },
  {
   "cell_type": "code",
   "execution_count": null,
   "metadata": {},
   "outputs": [],
   "source": []
  },
  {
   "cell_type": "code",
   "execution_count": null,
   "metadata": {},
   "outputs": [],
   "source": [
    "count=0\n",
    "while(count<6):\n",
    "    print(count)\n",
    "    if count==3:\n",
    "        break\n",
    "    count +=1"
   ]
  },
  {
   "cell_type": "code",
   "execution_count": null,
   "metadata": {},
   "outputs": [],
   "source": [
    "i=100\n",
    "while(i>=70):\n",
    "    if(i%2==0):\n",
    "        print(i, \" is an even number\")\n",
    "    i -=1\n"
   ]
  },
  {
   "cell_type": "code",
   "execution_count": null,
   "metadata": {},
   "outputs": [],
   "source": []
  }
 ],
 "metadata": {
  "kernelspec": {
   "display_name": "Python 3",
   "language": "python",
   "name": "python3"
  },
  "language_info": {
   "codemirror_mode": {
    "name": "ipython",
    "version": 3
   },
   "file_extension": ".py",
   "mimetype": "text/x-python",
   "name": "python",
   "nbconvert_exporter": "python",
   "pygments_lexer": "ipython3",
   "version": "3.7.0"
  }
 },
 "nbformat": 4,
 "nbformat_minor": 2
}
